{
 "cells": [
  {
   "cell_type": "code",
   "execution_count": 6,
   "id": "8af237ad",
   "metadata": {},
   "outputs": [
    {
     "name": "stdout",
     "output_type": "stream",
     "text": [
      "Hello, Sarah!\n"
     ]
    }
   ],
   "source": [
    "# Question 1- Write a function to print \"hello_USERNAME!\" USERNAME is the input of the function. \n",
    "# The first line of the code has been defined as below.\n",
    "\n",
    "def hello_name(user_name):\n",
    "    print(f'Hello, {user_name}!')\n",
    "    \n",
    "hello_name(\"Sarah\")"
   ]
  },
  {
   "cell_type": "code",
   "execution_count": 11,
   "id": "e784b48a",
   "metadata": {},
   "outputs": [
    {
     "name": "stdout",
     "output_type": "stream",
     "text": [
      "1\n",
      "3\n",
      "5\n",
      "7\n",
      "9\n",
      "11\n",
      "13\n",
      "15\n",
      "17\n",
      "19\n",
      "21\n",
      "23\n",
      "25\n",
      "27\n",
      "29\n",
      "31\n",
      "33\n",
      "35\n",
      "37\n",
      "39\n",
      "41\n",
      "43\n",
      "45\n",
      "47\n",
      "49\n",
      "51\n",
      "53\n",
      "55\n",
      "57\n",
      "59\n",
      "61\n",
      "63\n",
      "65\n",
      "67\n",
      "69\n",
      "71\n",
      "73\n",
      "75\n",
      "77\n",
      "79\n",
      "81\n",
      "83\n",
      "85\n",
      "87\n",
      "89\n",
      "91\n",
      "93\n",
      "95\n",
      "97\n",
      "99\n"
     ]
    }
   ],
   "source": [
    "# Question 2 - Write a python function, first_odds that prints the odd numbers from 1-100 and returns nothing\n",
    "\n",
    "def first_odds():\n",
    "    for i in range(1,101):\n",
    "        if i % 2 != 0:\n",
    "            print(i)\n",
    "first_odds()"
   ]
  },
  {
   "cell_type": "code",
   "execution_count": 8,
   "id": "3964f54d",
   "metadata": {},
   "outputs": [
    {
     "name": "stdout",
     "output_type": "stream",
     "text": [
      "50\n"
     ]
    }
   ],
   "source": [
    "# Question 3 - Please write a Python function, max_num_in_list to return the max number of a given list. \n",
    "# The first line of the code has been defined as below.\n",
    "\n",
    "def max_num_in_list(a_list):\n",
    "    maximum = a_list[0]\n",
    "    for i in range(len(a_list)):\n",
    "        if a_list[i] > maximum:\n",
    "            maximum = a_list[i]\n",
    "    return maximum\n",
    "a_list = [10, 20, 30, 40, 50]\n",
    "print(max_num_in_list(a_list))"
   ]
  },
  {
   "cell_type": "code",
   "execution_count": 9,
   "id": "c6209942",
   "metadata": {},
   "outputs": [
    {
     "name": "stdout",
     "output_type": "stream",
     "text": [
      "2017\n",
      "False\n"
     ]
    }
   ],
   "source": [
    "# Question 4 - Write a function to return if the given year is a leap year.\n",
    "# A leap year is divisible by 4, but not divisible by 100, unless it is also divisible by 400. \n",
    "# The return should be boolean Type (true/false).\n",
    "\n",
    "def is_leap_year(a_year):\n",
    "    # Checking if the year is divisible ny 400\n",
    "    if(a_year % 400 == 0):\n",
    "        return True\n",
    "    # Checking if the year is divisible 100. If it is divisible then it is\n",
    "    # Not a leap year\n",
    "    elif a_year % 100 == 0:\n",
    "        return False\n",
    "    # Checking if the year is divisible by 4.\n",
    "    elif a_year%4 == 0:\n",
    "        return True\n",
    "    # Otherwise False\n",
    "    else:\n",
    "        return False\n",
    "# Asking the user to enter year \n",
    "a_year = int(input())\n",
    "# Calling function is_leap_year\n",
    "print(is_leap_year(a_year))"
   ]
  },
  {
   "cell_type": "code",
   "execution_count": 10,
   "id": "86ba75cf",
   "metadata": {},
   "outputs": [
    {
     "name": "stdout",
     "output_type": "stream",
     "text": [
      "True\n",
      "False\n"
     ]
    }
   ],
   "source": [
    "# Question 5 - Write a function to check to see if all numbers in list are consecutive numbers. \n",
    "# For example, [2,3,4,5,6,7] are consecutive numbers, but [1,2,4,5] are not consecutive numbers. \n",
    "# The return should be boolean Type.\n",
    "\n",
    "def is_consecutive(a_list):\n",
    "    return sorted(a_list) == list(range(min(a_list), max(a_list)+1))\n",
    "# Driver Code\n",
    "a_list = [2,3,4,5,6,7]\n",
    "print(is_consecutive(a_list))\n",
    "a_list = [1,2,4,5]\n",
    "print(is_consecutive(a_list))"
   ]
  },
  {
   "cell_type": "code",
   "execution_count": null,
   "id": "70532d5a",
   "metadata": {},
   "outputs": [],
   "source": []
  }
 ],
 "metadata": {
  "kernelspec": {
   "display_name": "Python 3 (ipykernel)",
   "language": "python",
   "name": "python3"
  },
  "language_info": {
   "codemirror_mode": {
    "name": "ipython",
    "version": 3
   },
   "file_extension": ".py",
   "mimetype": "text/x-python",
   "name": "python",
   "nbconvert_exporter": "python",
   "pygments_lexer": "ipython3",
   "version": "3.11.5"
  }
 },
 "nbformat": 4,
 "nbformat_minor": 5
}
